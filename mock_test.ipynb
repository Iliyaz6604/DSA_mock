{
 "cells": [
  {
   "cell_type": "code",
   "execution_count": null,
   "id": "e752da89",
   "metadata": {},
   "outputs": [],
   "source": [
    "Given an integer array nums, move all 0's to the end of it while maintaining the relative order of the non-zero elements.\n",
    "\n",
    "Note that you must do this in-place without making a copy of the array.\n",
    "\n",
    "Example 1:\n",
    "Input: nums = [0,1,0,3,12]\n",
    "Output: [1,3,12,0,0]\n",
    "\n",
    "Example 2:\n",
    "Input: nums = [0]\n",
    "Output: [0]\n",
    "\n",
    "Constraints:\n",
    "a. 1 <= nums.length <= 10^4\n",
    "b. -2^31 <= nums[i] <= 2^31 - 1\n"
   ]
  },
  {
   "cell_type": "code",
   "execution_count": null,
   "id": "e3c3ebc0",
   "metadata": {},
   "outputs": [],
   "source": [
    "\n",
    "To move all the zeros to the end of the array while maintaining the relative order of the non-zero elements, you can use a two-pointer approach. Here's the algorithm to achieve that in-place:\n",
    "\n",
    "Initialize two pointers, left and right, both initially set to 0.\n",
    "Iterate through the array using a loop until the right pointer reaches the end of the array:\n",
    "a. If the element at the right pointer is non-zero:\n",
    "Swap the element at the left pointer with the element at the right pointer.\n",
    "Increment both the left and right pointers.\n",
    "b. If the element at the right pointer is zero, only increment the right pointer.\n",
    "After the loop finishes, all the non-zero elements will be at the front of the array, and all the zeros will be at the end.\n",
    "Iterate from the current left pointer to the end of the array and set all the remaining elements to zero."
   ]
  },
  {
   "cell_type": "code",
   "execution_count": 1,
   "id": "f4511564",
   "metadata": {},
   "outputs": [
    {
     "name": "stdout",
     "output_type": "stream",
     "text": [
      "[1, 3, 12, 0, 0]\n"
     ]
    }
   ],
   "source": [
    "'''python code'''\n",
    "def moveZeroes(nums):\n",
    "    left = 0\n",
    "    right = 0\n",
    "    \n",
    "    while right < len(nums):\n",
    "        if nums[right] != 0:\n",
    "            nums[left], nums[right] = nums[right], nums[left]\n",
    "            left += 1\n",
    "        right += 1\n",
    "    \n",
    "    while left < len(nums):\n",
    "        nums[left] = 0\n",
    "        left += 1\n",
    "\n",
    "# Example usage:\n",
    "nums = [0, 1, 0, 3, 12]\n",
    "moveZeroes(nums)\n",
    "print(nums)"
   ]
  },
  {
   "cell_type": "code",
   "execution_count": null,
   "id": "8b781554",
   "metadata": {},
   "outputs": [],
   "source": [
    "First Unique Character in a String\n",
    "\n",
    "Given a string s, find the first non-repeating character in it and return its index. If it does not exist, return -1.\n",
    "\n",
    "Example 1:\n",
    "Input: s = \"leetcode\"\n",
    "Output: 0\n",
    "\n",
    "Example 2:\n",
    "Input: s = \"loveleetcode\"\n",
    "Output: 2\n",
    "\n",
    "Example 3:\n",
    "Input: s = \"aabb\"\n",
    "Output: -1\n",
    "\n",
    "Constraints:\n",
    "a. 1 <= s.length <= 10^5\n",
    "b. s consists of only lowercase English letters."
   ]
  },
  {
   "cell_type": "code",
   "execution_count": null,
   "id": "68a9baf3",
   "metadata": {},
   "outputs": [],
   "source": [
    "Initialize an empty hashmap to store the character counts.\n",
    "Iterate through the string s and increment the count of each character in the hashmap.\n",
    "Iterate through the string s again and check the count of each character in the hashmap.\n",
    "If the count is 1, return the index of that character.\n",
    "If no character with a count of 1 is found, return -1."
   ]
  },
  {
   "cell_type": "code",
   "execution_count": 2,
   "id": "d9e60eab",
   "metadata": {},
   "outputs": [
    {
     "name": "stdout",
     "output_type": "stream",
     "text": [
      "0\n"
     ]
    }
   ],
   "source": [
    "'''python code'''\n",
    "def firstUniqChar(s):\n",
    "    char_counts = {}\n",
    "    \n",
    "    # Count the occurrences of each character\n",
    "    for char in s:\n",
    "        char_counts[char] = char_counts.get(char, 0) + 1\n",
    "    \n",
    "    # Find the first non-repeating character\n",
    "    for i, char in enumerate(s):\n",
    "        if char_counts[char] == 1:\n",
    "            return i\n",
    "    \n",
    "    # No non-repeating character found\n",
    "    return -1\n",
    "\n",
    "# Example usage:\n",
    "s = \"leetcode\"\n",
    "print(firstUniqChar(s)) "
   ]
  },
  {
   "cell_type": "code",
   "execution_count": null,
   "id": "769ba396",
   "metadata": {},
   "outputs": [],
   "source": []
  }
 ],
 "metadata": {
  "kernelspec": {
   "display_name": "Python 3 (ipykernel)",
   "language": "python",
   "name": "python3"
  },
  "language_info": {
   "codemirror_mode": {
    "name": "ipython",
    "version": 3
   },
   "file_extension": ".py",
   "mimetype": "text/x-python",
   "name": "python",
   "nbconvert_exporter": "python",
   "pygments_lexer": "ipython3",
   "version": "3.9.7"
  }
 },
 "nbformat": 4,
 "nbformat_minor": 5
}
